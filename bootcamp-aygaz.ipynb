{
 "cells": [
  {
   "cell_type": "markdown",
   "id": "ece84e89",
   "metadata": {
    "papermill": {
     "duration": 0.006854,
     "end_time": "2024-11-22T20:45:34.144485",
     "exception": false,
     "start_time": "2024-11-22T20:45:34.137631",
     "status": "completed"
    },
    "tags": []
   },
   "source": [
    "## 1. Projeye Giriş\n",
    "<a id=\"projeye-giriş\"></a>\n",
    "\n",
    "Merhaba, Ben Ayça Sena TEMEL.\n",
    "Bu projede Türkiye'deki depremlerle ilgili verileri analiz ederek fay hatlarının etkinliği ve depremlerin dağılımı hakkında bilgiler edinmeyi hedefliyorum.\n",
    "\n",
    "Github sayfamın linki: https://github.com/aycast\n"
   ]
  },
  {
   "cell_type": "markdown",
   "id": "8647f052",
   "metadata": {
    "papermill": {
     "duration": 0.004968,
     "end_time": "2024-11-22T20:45:34.154916",
     "exception": false,
     "start_time": "2024-11-22T20:45:34.149948",
     "status": "completed"
    },
    "tags": []
   },
   "source": [
    "\n",
    "## 2. Veri Seti Seçimi\n",
    "<a id=\"veri-seti-seçimi\"></a>\n",
    "\n",
    "Bu proje için **Kaggle** üzerinden **\"Earthquakes in Turkey (1919-2018)\"** veri seti seçilmiştir. Veri setinin detayları:\n",
    "- **Zaman Bilgisi:** Depremin tarihi ve saati,\n",
    "- **Yer Bilgisi:** Depremin meydana geldiği şehir veya bölge,\n",
    "- **Büyüklük:** Depremin Richter ölçeğine göre büyüklüğü,\n",
    "- **Derinlik:** Depremin yer kabuğunda gerçekleştiği derinlik (km cinsinden).\n"
   ]
  },
  {
   "cell_type": "code",
   "execution_count": 1,
   "id": "20974779",
   "metadata": {
    "execution": {
     "iopub.execute_input": "2024-11-22T20:45:34.166749Z",
     "iopub.status.busy": "2024-11-22T20:45:34.166158Z",
     "iopub.status.idle": "2024-11-22T20:45:37.303451Z",
     "shell.execute_reply": "2024-11-22T20:45:37.302022Z"
    },
    "papermill": {
     "duration": 3.147007,
     "end_time": "2024-11-22T20:45:37.306528",
     "exception": false,
     "start_time": "2024-11-22T20:45:34.159521",
     "status": "completed"
    },
    "tags": []
   },
   "outputs": [],
   "source": [
    "# Pandas ve numpy kagglehub kütüphanelerini yükledim\n",
    "import numpy as np\n",
    "import pandas as pd\n",
    "\n",
    "import kagglehub\n",
    "\n",
    "import matplotlib.pyplot as plt\n",
    "import seaborn as sns\n",
    "\n",
    "import matplotlib.pyplot as plt\n",
    "import seaborn as sns \n",
    "# Görselleştirme kütüphaneleri"
   ]
  },
  {
   "cell_type": "code",
   "execution_count": 2,
   "id": "fb83b841",
   "metadata": {
    "execution": {
     "iopub.execute_input": "2024-11-22T20:45:37.320038Z",
     "iopub.status.busy": "2024-11-22T20:45:37.319377Z",
     "iopub.status.idle": "2024-11-22T20:45:37.703558Z",
     "shell.execute_reply": "2024-11-22T20:45:37.702097Z"
    },
    "papermill": {
     "duration": 0.394413,
     "end_time": "2024-11-22T20:45:37.706229",
     "exception": false,
     "start_time": "2024-11-22T20:45:37.311816",
     "status": "completed"
    },
    "tags": []
   },
   "outputs": [
    {
     "name": "stdout",
     "output_type": "stream",
     "text": [
      "Path to dataset files: /kaggle/input/earthquakes-in-turkey-19192018\n"
     ]
    }
   ],
   "source": [
    "import kagglehub\n",
    "\n",
    "# Download latest version\n",
    "path = kagglehub.dataset_download(\"hamzatanc/earthquakes-in-turkey-19192018\")\n",
    "\n",
    "print(\"Path to dataset files:\", path)"
   ]
  },
  {
   "cell_type": "code",
   "execution_count": 3,
   "id": "7b5a3987",
   "metadata": {
    "_cell_guid": "b1076dfc-b9ad-4769-8c92-a6c4dae69d19",
    "_uuid": "8f2839f25d086af736a60e9eeb907d3b93b6e0e5",
    "execution": {
     "iopub.execute_input": "2024-11-22T20:45:37.718593Z",
     "iopub.status.busy": "2024-11-22T20:45:37.718089Z",
     "iopub.status.idle": "2024-11-22T20:45:37.762684Z",
     "shell.execute_reply": "2024-11-22T20:45:37.761445Z"
    },
    "papermill": {
     "duration": 0.054341,
     "end_time": "2024-11-22T20:45:37.765737",
     "exception": false,
     "start_time": "2024-11-22T20:45:37.711396",
     "status": "completed"
    },
    "tags": []
   },
   "outputs": [],
   "source": [
    "\n",
    "df_ = pd.read_csv('/kaggle/input/earthquakes-in-turkey-19192018/deprem.csv', encoding='iso-8859-9')\n",
    "\n",
    "#df = df_.copy()"
   ]
  },
  {
   "cell_type": "code",
   "execution_count": 4,
   "id": "75290959",
   "metadata": {
    "execution": {
     "iopub.execute_input": "2024-11-22T20:45:37.778772Z",
     "iopub.status.busy": "2024-11-22T20:45:37.778309Z",
     "iopub.status.idle": "2024-11-22T20:45:37.803214Z",
     "shell.execute_reply": "2024-11-22T20:45:37.801730Z"
    },
    "papermill": {
     "duration": 0.034837,
     "end_time": "2024-11-22T20:45:37.806189",
     "exception": false,
     "start_time": "2024-11-22T20:45:37.771352",
     "status": "completed"
    },
    "tags": []
   },
   "outputs": [
    {
     "name": "stdout",
     "output_type": "stream",
     "text": [
      "             id        date         time    lat   long country     city  \\\n",
      "0  1.970000e+13  19.08.1966  12:03:55 ÖÖ  39.21  41.40  turkey      Mus   \n",
      "1  1.970000e+13  19.08.1966  12:41:18 ÖÖ  39.13  41.48  turkey      Mus   \n",
      "2  1.970000e+13  30.12.1966  12:57:09 ÖÖ  40.74  30.74  turkey  Sakarya   \n",
      "3  1.970000e+13  22.05.1967  12:46:02 ÖÖ  36.59  29.35  turkey    Mugla   \n",
      "4  1.970000e+13  26.01.1974  12:49:20 ÖÖ  37.25  29.60  turkey   Burdur   \n",
      "\n",
      "                 area   direction  dist  depth   xm   md  richter   mw   mb  \n",
      "0         tasci_varto        east   0.1   14.0  5.0  4.7      4.7  5.0  4.7  \n",
      "1     yedikavak_varto  south_west   0.2   50.0  5.0  4.7      4.7  5.0  4.7  \n",
      "2  suleymaniye_hendek  south_west   0.2   31.0  4.5  4.3      4.3  4.5  4.2  \n",
      "3    cobanlar_fethiye  south_west   0.2   54.0  4.9  4.7      4.6  4.9  4.6  \n",
      "4    kucukalan_cavdir  south_east   0.2   34.0  4.2  4.0      4.0  4.2  4.1  \n"
     ]
    }
   ],
   "source": [
    "# DataFrame'in ilk birkaç satırını kontrol edelim\n",
    "print(df_.head())\n",
    "\n",
    "# Gerekirse DataFrame'i kullanılabilir hale getirin\n",
    "df = df_.copy()"
   ]
  },
  {
   "cell_type": "markdown",
   "id": "0e953f7b",
   "metadata": {
    "papermill": {
     "duration": 0.006057,
     "end_time": "2024-11-22T20:45:37.817383",
     "exception": false,
     "start_time": "2024-11-22T20:45:37.811326",
     "status": "completed"
    },
    "tags": []
   },
   "source": [
    "\n",
    "## 3. Veri Seti İşlemleri\n",
    "<a id=\"veri-seti-işlemleri\"></a>\n",
    "\n",
    "Veri seti seçildikten sonra aşağıdaki işlemler uygulanmıştır:\n",
    "\n",
    "### 3.1. Veri Temizleme\n",
    "- Eksik veya hatalı veri girişleri tespit edilip temizlenmiştir.\n",
    "- Anlamsız veya uç değerler analiz edilerek veri setinden çıkarılmıştır.\n",
    "\n",
    "### 3.2. Veri Formatlama\n",
    "- Tarih ve saat sütunları `datetime` formatına dönüştürülmüştür.\n",
    "- Büyüklük ve derinlik verileri numarik formata uygun hale getirilmiştir.\n"
   ]
  },
  {
   "cell_type": "code",
   "execution_count": 5,
   "id": "ec9f0889",
   "metadata": {
    "execution": {
     "iopub.execute_input": "2024-11-22T20:45:37.829706Z",
     "iopub.status.busy": "2024-11-22T20:45:37.829220Z",
     "iopub.status.idle": "2024-11-22T20:45:37.857383Z",
     "shell.execute_reply": "2024-11-22T20:45:37.855787Z"
    },
    "papermill": {
     "duration": 0.037895,
     "end_time": "2024-11-22T20:45:37.860250",
     "exception": false,
     "start_time": "2024-11-22T20:45:37.822355",
     "status": "completed"
    },
    "tags": []
   },
   "outputs": [],
   "source": [
    "#Veri setimize null değerler ekliyoruz\n",
    "\n",
    "import random\n",
    "\n",
    "def add_random_missing_values(dataframe: pd.DataFrame,\n",
    "                              missing_rate: float = 0.05,\n",
    "                              seed: random = 42) -> pd.DataFrame:\n",
    "    \n",
    "    # Get copy of dataframe\n",
    "    df_missing = dataframe.copy()\n",
    "\n",
    "    # Obtain size of dataframe and number total number of missing values\n",
    "    df_size = dataframe.size\n",
    "    num_missing = int(df_size * missing_rate)\n",
    "    \n",
    "    # Set seed\n",
    "    if seed:\n",
    "        random.seed(seed)\n",
    "\n",
    "    # Get random row and column indexes to turn them NaN\n",
    "    for _ in range(num_missing):\n",
    "        row_idx = random.randint(0, dataframe.shape[0] - 1)\n",
    "        col_idx = random.randint(0, dataframe.shape[1] - 1)\n",
    "\n",
    "        df_missing.iat[row_idx, col_idx] = np.nan\n",
    "        \n",
    "    return df_missing\n",
    "\n",
    "df = add_random_missing_values(dataframe = df,\n",
    "                               missing_rate = 0.03)"
   ]
  },
  {
   "cell_type": "code",
   "execution_count": 6,
   "id": "6b6a2603",
   "metadata": {
    "execution": {
     "iopub.execute_input": "2024-11-22T20:45:37.872898Z",
     "iopub.status.busy": "2024-11-22T20:45:37.872417Z",
     "iopub.status.idle": "2024-11-22T20:45:37.900792Z",
     "shell.execute_reply": "2024-11-22T20:45:37.899601Z"
    },
    "papermill": {
     "duration": 0.038317,
     "end_time": "2024-11-22T20:45:37.903746",
     "exception": false,
     "start_time": "2024-11-22T20:45:37.865429",
     "status": "completed"
    },
    "tags": []
   },
   "outputs": [
    {
     "data": {
      "text/html": [
       "<div>\n",
       "<style scoped>\n",
       "    .dataframe tbody tr th:only-of-type {\n",
       "        vertical-align: middle;\n",
       "    }\n",
       "\n",
       "    .dataframe tbody tr th {\n",
       "        vertical-align: top;\n",
       "    }\n",
       "\n",
       "    .dataframe thead th {\n",
       "        text-align: right;\n",
       "    }\n",
       "</style>\n",
       "<table border=\"1\" class=\"dataframe\">\n",
       "  <thead>\n",
       "    <tr style=\"text-align: right;\">\n",
       "      <th></th>\n",
       "      <th>id</th>\n",
       "      <th>date</th>\n",
       "      <th>time</th>\n",
       "      <th>lat</th>\n",
       "      <th>long</th>\n",
       "      <th>country</th>\n",
       "      <th>city</th>\n",
       "      <th>area</th>\n",
       "      <th>direction</th>\n",
       "      <th>dist</th>\n",
       "      <th>depth</th>\n",
       "      <th>xm</th>\n",
       "      <th>md</th>\n",
       "      <th>richter</th>\n",
       "      <th>mw</th>\n",
       "      <th>mb</th>\n",
       "    </tr>\n",
       "  </thead>\n",
       "  <tbody>\n",
       "    <tr>\n",
       "      <th>0</th>\n",
       "      <td>1.970000e+13</td>\n",
       "      <td>19.08.1966</td>\n",
       "      <td>12:03:55 ÖÖ</td>\n",
       "      <td>39.21</td>\n",
       "      <td>41.40</td>\n",
       "      <td>turkey</td>\n",
       "      <td>Mus</td>\n",
       "      <td>tasci_varto</td>\n",
       "      <td>east</td>\n",
       "      <td>0.1</td>\n",
       "      <td>14.0</td>\n",
       "      <td>5.0</td>\n",
       "      <td>4.7</td>\n",
       "      <td>4.7</td>\n",
       "      <td>5.0</td>\n",
       "      <td>4.7</td>\n",
       "    </tr>\n",
       "    <tr>\n",
       "      <th>1</th>\n",
       "      <td>1.970000e+13</td>\n",
       "      <td>19.08.1966</td>\n",
       "      <td>12:41:18 ÖÖ</td>\n",
       "      <td>39.13</td>\n",
       "      <td>41.48</td>\n",
       "      <td>turkey</td>\n",
       "      <td>Mus</td>\n",
       "      <td>yedikavak_varto</td>\n",
       "      <td>south_west</td>\n",
       "      <td>0.2</td>\n",
       "      <td>50.0</td>\n",
       "      <td>5.0</td>\n",
       "      <td>4.7</td>\n",
       "      <td>4.7</td>\n",
       "      <td>5.0</td>\n",
       "      <td>4.7</td>\n",
       "    </tr>\n",
       "    <tr>\n",
       "      <th>2</th>\n",
       "      <td>1.970000e+13</td>\n",
       "      <td>30.12.1966</td>\n",
       "      <td>12:57:09 ÖÖ</td>\n",
       "      <td>40.74</td>\n",
       "      <td>30.74</td>\n",
       "      <td>turkey</td>\n",
       "      <td>Sakarya</td>\n",
       "      <td>suleymaniye_hendek</td>\n",
       "      <td>south_west</td>\n",
       "      <td>0.2</td>\n",
       "      <td>31.0</td>\n",
       "      <td>4.5</td>\n",
       "      <td>4.3</td>\n",
       "      <td>4.3</td>\n",
       "      <td>4.5</td>\n",
       "      <td>4.2</td>\n",
       "    </tr>\n",
       "    <tr>\n",
       "      <th>3</th>\n",
       "      <td>1.970000e+13</td>\n",
       "      <td>22.05.1967</td>\n",
       "      <td>12:46:02 ÖÖ</td>\n",
       "      <td>36.59</td>\n",
       "      <td>29.35</td>\n",
       "      <td>turkey</td>\n",
       "      <td>NaN</td>\n",
       "      <td>cobanlar_fethiye</td>\n",
       "      <td>south_west</td>\n",
       "      <td>0.2</td>\n",
       "      <td>54.0</td>\n",
       "      <td>4.9</td>\n",
       "      <td>4.7</td>\n",
       "      <td>4.6</td>\n",
       "      <td>4.9</td>\n",
       "      <td>4.6</td>\n",
       "    </tr>\n",
       "    <tr>\n",
       "      <th>4</th>\n",
       "      <td>1.970000e+13</td>\n",
       "      <td>26.01.1974</td>\n",
       "      <td>12:49:20 ÖÖ</td>\n",
       "      <td>37.25</td>\n",
       "      <td>29.60</td>\n",
       "      <td>turkey</td>\n",
       "      <td>Burdur</td>\n",
       "      <td>kucukalan_cavdir</td>\n",
       "      <td>south_east</td>\n",
       "      <td>0.2</td>\n",
       "      <td>34.0</td>\n",
       "      <td>4.2</td>\n",
       "      <td>4.0</td>\n",
       "      <td>4.0</td>\n",
       "      <td>4.2</td>\n",
       "      <td>4.1</td>\n",
       "    </tr>\n",
       "  </tbody>\n",
       "</table>\n",
       "</div>"
      ],
      "text/plain": [
       "             id        date         time    lat   long country     city  \\\n",
       "0  1.970000e+13  19.08.1966  12:03:55 ÖÖ  39.21  41.40  turkey      Mus   \n",
       "1  1.970000e+13  19.08.1966  12:41:18 ÖÖ  39.13  41.48  turkey      Mus   \n",
       "2  1.970000e+13  30.12.1966  12:57:09 ÖÖ  40.74  30.74  turkey  Sakarya   \n",
       "3  1.970000e+13  22.05.1967  12:46:02 ÖÖ  36.59  29.35  turkey      NaN   \n",
       "4  1.970000e+13  26.01.1974  12:49:20 ÖÖ  37.25  29.60  turkey   Burdur   \n",
       "\n",
       "                 area   direction  dist  depth   xm   md  richter   mw   mb  \n",
       "0         tasci_varto        east   0.1   14.0  5.0  4.7      4.7  5.0  4.7  \n",
       "1     yedikavak_varto  south_west   0.2   50.0  5.0  4.7      4.7  5.0  4.7  \n",
       "2  suleymaniye_hendek  south_west   0.2   31.0  4.5  4.3      4.3  4.5  4.2  \n",
       "3    cobanlar_fethiye  south_west   0.2   54.0  4.9  4.7      4.6  4.9  4.6  \n",
       "4    kucukalan_cavdir  south_east   0.2   34.0  4.2  4.0      4.0  4.2  4.1  "
      ]
     },
     "execution_count": 6,
     "metadata": {},
     "output_type": "execute_result"
    }
   ],
   "source": [
    "df.head()\n",
    "# Veri setini görelim."
   ]
  },
  {
   "cell_type": "code",
   "execution_count": 7,
   "id": "0414a84a",
   "metadata": {
    "execution": {
     "iopub.execute_input": "2024-11-22T20:45:37.917751Z",
     "iopub.status.busy": "2024-11-22T20:45:37.916621Z",
     "iopub.status.idle": "2024-11-22T20:45:37.924485Z",
     "shell.execute_reply": "2024-11-22T20:45:37.923368Z"
    },
    "papermill": {
     "duration": 0.017374,
     "end_time": "2024-11-22T20:45:37.926895",
     "exception": false,
     "start_time": "2024-11-22T20:45:37.909521",
     "status": "completed"
    },
    "tags": []
   },
   "outputs": [
    {
     "data": {
      "text/plain": [
       "(1731, 16)"
      ]
     },
     "execution_count": 7,
     "metadata": {},
     "output_type": "execute_result"
    }
   ],
   "source": [
    "df.shape # -> (satır, sütun)"
   ]
  },
  {
   "cell_type": "code",
   "execution_count": 8,
   "id": "24d98062",
   "metadata": {
    "execution": {
     "iopub.execute_input": "2024-11-22T20:45:37.940697Z",
     "iopub.status.busy": "2024-11-22T20:45:37.940222Z",
     "iopub.status.idle": "2024-11-22T20:45:37.947363Z",
     "shell.execute_reply": "2024-11-22T20:45:37.945959Z"
    },
    "papermill": {
     "duration": 0.017349,
     "end_time": "2024-11-22T20:45:37.949931",
     "exception": false,
     "start_time": "2024-11-22T20:45:37.932582",
     "status": "completed"
    },
    "tags": []
   },
   "outputs": [
    {
     "name": "stdout",
     "output_type": "stream",
     "text": [
      "['id', 'date', 'time', 'lat', 'long', 'country', 'city', 'area', 'direction', 'dist', 'depth', 'xm', 'md', 'richter', 'mw', 'mb'] \n",
      "\n",
      "Veri seti içerisinde toplam 16 kolon vardır.\n",
      "\n",
      "df.columns'un döndüğü veri tipi: <class 'pandas.core.indexes.base.Index'>\n",
      "\n"
     ]
    }
   ],
   "source": [
    "# Veri setindeki kolonları yazdırır.\n",
    "print(list(df.columns), '\\n')\n",
    "\n",
    "# len() fonksiyonu ile toplam kolon sayısına erişiyoruz.\n",
    "print(f\"Veri seti içerisinde toplam {len(df.columns)} kolon vardır.\\n\")\n",
    "\n",
    "# Çoğu zaman kullandığımız attribute ve fonksiyonların sonuçlarının hangi tipte veri döndürdüğünü gözlemlemek kod üzerinde hakimiyet kurmak için önemlidir.\n",
    "print(f\"df.columns'un döndüğü veri tipi: {type(df.columns)}\\n\")"
   ]
  },
  {
   "cell_type": "code",
   "execution_count": 9,
   "id": "a142a29c",
   "metadata": {
    "execution": {
     "iopub.execute_input": "2024-11-22T20:45:37.963600Z",
     "iopub.status.busy": "2024-11-22T20:45:37.962911Z",
     "iopub.status.idle": "2024-11-22T20:45:38.000169Z",
     "shell.execute_reply": "2024-11-22T20:45:37.998463Z"
    },
    "papermill": {
     "duration": 0.048073,
     "end_time": "2024-11-22T20:45:38.003797",
     "exception": false,
     "start_time": "2024-11-22T20:45:37.955724",
     "status": "completed"
    },
    "tags": []
   },
   "outputs": [
    {
     "name": "stdout",
     "output_type": "stream",
     "text": [
      "<class 'pandas.core.frame.DataFrame'>\n",
      "RangeIndex: 1731 entries, 0 to 1730\n",
      "Data columns (total 16 columns):\n",
      " #   Column     Non-Null Count  Dtype  \n",
      "---  ------     --------------  -----  \n",
      " 0   id         1680 non-null   float64\n",
      " 1   date       1681 non-null   object \n",
      " 2   time       1681 non-null   object \n",
      " 3   lat        1679 non-null   float64\n",
      " 4   long       1680 non-null   float64\n",
      " 5   country    1692 non-null   object \n",
      " 6   city       1684 non-null   object \n",
      " 7   area       1670 non-null   object \n",
      " 8   direction  1679 non-null   object \n",
      " 9   dist       1678 non-null   float64\n",
      " 10  depth      1675 non-null   float64\n",
      " 11  xm         1692 non-null   float64\n",
      " 12  md         1687 non-null   float64\n",
      " 13  richter    1664 non-null   float64\n",
      " 14  mw         1672 non-null   float64\n",
      " 15  mb         1682 non-null   float64\n",
      "dtypes: float64(10), object(6)\n",
      "memory usage: 216.5+ KB\n"
     ]
    }
   ],
   "source": [
    "df.info()"
   ]
  },
  {
   "cell_type": "code",
   "execution_count": 10,
   "id": "24743f3e",
   "metadata": {
    "execution": {
     "iopub.execute_input": "2024-11-22T20:45:38.018146Z",
     "iopub.status.busy": "2024-11-22T20:45:38.017654Z",
     "iopub.status.idle": "2024-11-22T20:45:38.028695Z",
     "shell.execute_reply": "2024-11-22T20:45:38.027459Z"
    },
    "papermill": {
     "duration": 0.021317,
     "end_time": "2024-11-22T20:45:38.031134",
     "exception": false,
     "start_time": "2024-11-22T20:45:38.009817",
     "status": "completed"
    },
    "tags": []
   },
   "outputs": [
    {
     "data": {
      "text/plain": [
       "id           51\n",
       "date         50\n",
       "time         50\n",
       "lat          52\n",
       "long         51\n",
       "country      39\n",
       "city         47\n",
       "area         61\n",
       "direction    52\n",
       "dist         53\n",
       "depth        56\n",
       "xm           39\n",
       "md           44\n",
       "richter      67\n",
       "mw           59\n",
       "mb           49\n",
       "dtype: int64"
      ]
     },
     "execution_count": 10,
     "metadata": {},
     "output_type": "execute_result"
    }
   ],
   "source": [
    "df.isna().sum() # -> isna() methodu yerine isnull() methodu da kullanılabilir.\n"
   ]
  },
  {
   "cell_type": "code",
   "execution_count": 11,
   "id": "ace9d3ba",
   "metadata": {
    "execution": {
     "iopub.execute_input": "2024-11-22T20:45:38.044800Z",
     "iopub.status.busy": "2024-11-22T20:45:38.044311Z",
     "iopub.status.idle": "2024-11-22T20:45:38.055555Z",
     "shell.execute_reply": "2024-11-22T20:45:38.054139Z"
    },
    "papermill": {
     "duration": 0.021182,
     "end_time": "2024-11-22T20:45:38.058095",
     "exception": false,
     "start_time": "2024-11-22T20:45:38.036913",
     "status": "completed"
    },
    "tags": []
   },
   "outputs": [
    {
     "data": {
      "text/plain": [
       "id           1680\n",
       "date         1681\n",
       "time         1681\n",
       "lat          1679\n",
       "long         1680\n",
       "country      1692\n",
       "city         1684\n",
       "area         1670\n",
       "direction    1679\n",
       "dist         1678\n",
       "depth        1675\n",
       "xm           1692\n",
       "md           1687\n",
       "richter      1664\n",
       "mw           1672\n",
       "mb           1682\n",
       "dtype: int64"
      ]
     },
     "execution_count": 11,
     "metadata": {},
     "output_type": "execute_result"
    }
   ],
   "source": [
    "# Eksik olmayan değerlerin sayısı\n",
    "df.notnull().sum()"
   ]
  },
  {
   "cell_type": "code",
   "execution_count": 12,
   "id": "c759268e",
   "metadata": {
    "execution": {
     "iopub.execute_input": "2024-11-22T20:45:38.073147Z",
     "iopub.status.busy": "2024-11-22T20:45:38.071958Z",
     "iopub.status.idle": "2024-11-22T20:45:38.101246Z",
     "shell.execute_reply": "2024-11-22T20:45:38.099988Z"
    },
    "papermill": {
     "duration": 0.039651,
     "end_time": "2024-11-22T20:45:38.104085",
     "exception": false,
     "start_time": "2024-11-22T20:45:38.064434",
     "status": "completed"
    },
    "tags": []
   },
   "outputs": [
    {
     "data": {
      "text/html": [
       "<div>\n",
       "<style scoped>\n",
       "    .dataframe tbody tr th:only-of-type {\n",
       "        vertical-align: middle;\n",
       "    }\n",
       "\n",
       "    .dataframe tbody tr th {\n",
       "        vertical-align: top;\n",
       "    }\n",
       "\n",
       "    .dataframe thead th {\n",
       "        text-align: right;\n",
       "    }\n",
       "</style>\n",
       "<table border=\"1\" class=\"dataframe\">\n",
       "  <thead>\n",
       "    <tr style=\"text-align: right;\">\n",
       "      <th></th>\n",
       "      <th>id</th>\n",
       "      <th>date</th>\n",
       "      <th>time</th>\n",
       "      <th>lat</th>\n",
       "      <th>long</th>\n",
       "      <th>country</th>\n",
       "      <th>city</th>\n",
       "      <th>area</th>\n",
       "      <th>direction</th>\n",
       "      <th>dist</th>\n",
       "      <th>depth</th>\n",
       "      <th>xm</th>\n",
       "      <th>md</th>\n",
       "      <th>richter</th>\n",
       "      <th>mw</th>\n",
       "      <th>mb</th>\n",
       "    </tr>\n",
       "  </thead>\n",
       "  <tbody>\n",
       "    <tr>\n",
       "      <th>0</th>\n",
       "      <td>1.970000e+13</td>\n",
       "      <td>19.08.1966</td>\n",
       "      <td>12:03:55 ÖÖ</td>\n",
       "      <td>39.21</td>\n",
       "      <td>41.40</td>\n",
       "      <td>turkey</td>\n",
       "      <td>Mus</td>\n",
       "      <td>tasci_varto</td>\n",
       "      <td>east</td>\n",
       "      <td>0.1</td>\n",
       "      <td>14.0</td>\n",
       "      <td>5.0</td>\n",
       "      <td>4.7</td>\n",
       "      <td>4.7</td>\n",
       "      <td>5.0</td>\n",
       "      <td>4.7</td>\n",
       "    </tr>\n",
       "    <tr>\n",
       "      <th>1</th>\n",
       "      <td>1.970000e+13</td>\n",
       "      <td>19.08.1966</td>\n",
       "      <td>12:41:18 ÖÖ</td>\n",
       "      <td>39.13</td>\n",
       "      <td>41.48</td>\n",
       "      <td>turkey</td>\n",
       "      <td>Mus</td>\n",
       "      <td>yedikavak_varto</td>\n",
       "      <td>south_west</td>\n",
       "      <td>0.2</td>\n",
       "      <td>50.0</td>\n",
       "      <td>5.0</td>\n",
       "      <td>4.7</td>\n",
       "      <td>4.7</td>\n",
       "      <td>5.0</td>\n",
       "      <td>4.7</td>\n",
       "    </tr>\n",
       "    <tr>\n",
       "      <th>2</th>\n",
       "      <td>1.970000e+13</td>\n",
       "      <td>30.12.1966</td>\n",
       "      <td>12:57:09 ÖÖ</td>\n",
       "      <td>40.74</td>\n",
       "      <td>30.74</td>\n",
       "      <td>turkey</td>\n",
       "      <td>Sakarya</td>\n",
       "      <td>suleymaniye_hendek</td>\n",
       "      <td>south_west</td>\n",
       "      <td>0.2</td>\n",
       "      <td>31.0</td>\n",
       "      <td>4.5</td>\n",
       "      <td>4.3</td>\n",
       "      <td>4.3</td>\n",
       "      <td>4.5</td>\n",
       "      <td>4.2</td>\n",
       "    </tr>\n",
       "    <tr>\n",
       "      <th>4</th>\n",
       "      <td>1.970000e+13</td>\n",
       "      <td>26.01.1974</td>\n",
       "      <td>12:49:20 ÖÖ</td>\n",
       "      <td>37.25</td>\n",
       "      <td>29.60</td>\n",
       "      <td>turkey</td>\n",
       "      <td>Burdur</td>\n",
       "      <td>kucukalan_cavdir</td>\n",
       "      <td>south_east</td>\n",
       "      <td>0.2</td>\n",
       "      <td>34.0</td>\n",
       "      <td>4.2</td>\n",
       "      <td>4.0</td>\n",
       "      <td>4.0</td>\n",
       "      <td>4.2</td>\n",
       "      <td>4.1</td>\n",
       "    </tr>\n",
       "    <tr>\n",
       "      <th>5</th>\n",
       "      <td>2.020000e+13</td>\n",
       "      <td>6.02.2017</td>\n",
       "      <td>12:03:32 ÖÖ</td>\n",
       "      <td>39.53</td>\n",
       "      <td>26.12</td>\n",
       "      <td>turkey</td>\n",
       "      <td>Çanakkale</td>\n",
       "      <td>gulpinar_ayvacik</td>\n",
       "      <td>south_east</td>\n",
       "      <td>0.2</td>\n",
       "      <td>10.8</td>\n",
       "      <td>3.6</td>\n",
       "      <td>0.0</td>\n",
       "      <td>3.6</td>\n",
       "      <td>0.0</td>\n",
       "      <td>0.0</td>\n",
       "    </tr>\n",
       "  </tbody>\n",
       "</table>\n",
       "</div>"
      ],
      "text/plain": [
       "             id        date         time    lat   long country       city  \\\n",
       "0  1.970000e+13  19.08.1966  12:03:55 ÖÖ  39.21  41.40  turkey        Mus   \n",
       "1  1.970000e+13  19.08.1966  12:41:18 ÖÖ  39.13  41.48  turkey        Mus   \n",
       "2  1.970000e+13  30.12.1966  12:57:09 ÖÖ  40.74  30.74  turkey    Sakarya   \n",
       "4  1.970000e+13  26.01.1974  12:49:20 ÖÖ  37.25  29.60  turkey     Burdur   \n",
       "5  2.020000e+13   6.02.2017  12:03:32 ÖÖ  39.53  26.12  turkey  Çanakkale   \n",
       "\n",
       "                 area   direction  dist  depth   xm   md  richter   mw   mb  \n",
       "0         tasci_varto        east   0.1   14.0  5.0  4.7      4.7  5.0  4.7  \n",
       "1     yedikavak_varto  south_west   0.2   50.0  5.0  4.7      4.7  5.0  4.7  \n",
       "2  suleymaniye_hendek  south_west   0.2   31.0  4.5  4.3      4.3  4.5  4.2  \n",
       "4    kucukalan_cavdir  south_east   0.2   34.0  4.2  4.0      4.0  4.2  4.1  \n",
       "5    gulpinar_ayvacik  south_east   0.2   10.8  3.6  0.0      3.6  0.0  0.0  "
      ]
     },
     "execution_count": 12,
     "metadata": {},
     "output_type": "execute_result"
    }
   ],
   "source": [
    "# Hiç eksik gözlemi bulunmayan kayıtları getirelim.\n",
    "df[df.notnull().all(axis = 1)][:5]"
   ]
  },
  {
   "cell_type": "code",
   "execution_count": 13,
   "id": "c23edf13",
   "metadata": {
    "execution": {
     "iopub.execute_input": "2024-11-22T20:45:38.120518Z",
     "iopub.status.busy": "2024-11-22T20:45:38.119262Z",
     "iopub.status.idle": "2024-11-22T20:45:39.882240Z",
     "shell.execute_reply": "2024-11-22T20:45:39.880926Z"
    },
    "papermill": {
     "duration": 1.774552,
     "end_time": "2024-11-22T20:45:39.885589",
     "exception": false,
     "start_time": "2024-11-22T20:45:38.111037",
     "status": "completed"
    },
    "tags": []
   },
   "outputs": [
    {
     "data": {
      "image/png": "[encoded data removed]",
      "text/plain": [
       "<Figure size 800x400 with 3 Axes>"
      ]
     },
     "metadata": {},
     "output_type": "display_data"
    }
   ],
   "source": [
    "import missingno as msno\n",
    "\n",
    "msno.bar(df = df,\n",
    "         figsize = (8, 4),\n",
    "         fontsize = 10);"
   ]
  },
  {
   "cell_type": "code",
   "execution_count": 14,
   "id": "e841d5b4",
   "metadata": {
    "execution": {
     "iopub.execute_input": "2024-11-22T20:45:39.903806Z",
     "iopub.status.busy": "2024-11-22T20:45:39.903203Z",
     "iopub.status.idle": "2024-11-22T20:45:40.331144Z",
     "shell.execute_reply": "2024-11-22T20:45:40.329641Z"
    },
    "papermill": {
     "duration": 0.44058,
     "end_time": "2024-11-22T20:45:40.333921",
     "exception": false,
     "start_time": "2024-11-22T20:45:39.893341",
     "status": "completed"
    },
    "tags": []
   },
   "outputs": [
    {
     "data": {
      "image/png": "[encoded data removed]",
      "text/plain": [
       "<Figure size 1000x600 with 2 Axes>"
      ]
     },
     "metadata": {},
     "output_type": "display_data"
    }
   ],
   "source": [
    "# msno.matrix(), değişkenlerde bulunan eksik değerlerin ilişkili olup olmadığını görsel yolla tespit etmek için kullanılabilir.\n",
    "msno.matrix(df = df[['city', 'area']],\n",
    "            figsize = (10, 6),\n",
    "            fontsize = 10);"
   ]
  },
  {
   "cell_type": "code",
   "execution_count": 15,
   "id": "d6c4f4d4",
   "metadata": {
    "execution": {
     "iopub.execute_input": "2024-11-22T20:45:40.351437Z",
     "iopub.status.busy": "2024-11-22T20:45:40.350711Z",
     "iopub.status.idle": "2024-11-22T20:45:41.049161Z",
     "shell.execute_reply": "2024-11-22T20:45:41.047669Z"
    },
    "papermill": {
     "duration": 0.711084,
     "end_time": "2024-11-22T20:45:41.052395",
     "exception": false,
     "start_time": "2024-11-22T20:45:40.341311",
     "status": "completed"
    },
    "tags": []
   },
   "outputs": [
    {
     "data": {
      "image/png": "[encoded data removed]",
      "text/plain": [
       "<Figure size 1000x600 with 2 Axes>"
      ]
     },
     "metadata": {},
     "output_type": "display_data"
    }
   ],
   "source": [
    "msno.heatmap(df = df,\n",
    "             figsize = (10, 6),\n",
    "             fontsize = 10);"
   ]
  },
  {
   "cell_type": "code",
   "execution_count": 16,
   "id": "13dc9fda",
   "metadata": {
    "execution": {
     "iopub.execute_input": "2024-11-22T20:45:41.071350Z",
     "iopub.status.busy": "2024-11-22T20:45:41.070095Z",
     "iopub.status.idle": "2024-11-22T20:45:41.085573Z",
     "shell.execute_reply": "2024-11-22T20:45:41.084284Z"
    },
    "papermill": {
     "duration": 0.028113,
     "end_time": "2024-11-22T20:45:41.088340",
     "exception": false,
     "start_time": "2024-11-22T20:45:41.060227",
     "status": "completed"
    },
    "tags": []
   },
   "outputs": [
    {
     "data": {
      "text/html": [
       "<div>\n",
       "<style scoped>\n",
       "    .dataframe tbody tr th:only-of-type {\n",
       "        vertical-align: middle;\n",
       "    }\n",
       "\n",
       "    .dataframe tbody tr th {\n",
       "        vertical-align: top;\n",
       "    }\n",
       "\n",
       "    .dataframe thead th {\n",
       "        text-align: right;\n",
       "    }\n",
       "</style>\n",
       "<table border=\"1\" class=\"dataframe\">\n",
       "  <thead>\n",
       "    <tr style=\"text-align: right;\">\n",
       "      <th></th>\n",
       "      <th>date</th>\n",
       "      <th>time</th>\n",
       "      <th>country</th>\n",
       "      <th>city</th>\n",
       "      <th>area</th>\n",
       "      <th>direction</th>\n",
       "    </tr>\n",
       "  </thead>\n",
       "  <tbody>\n",
       "    <tr>\n",
       "      <th>0</th>\n",
       "      <td>19.08.1966</td>\n",
       "      <td>12:03:55 ÖÖ</td>\n",
       "      <td>turkey</td>\n",
       "      <td>Mus</td>\n",
       "      <td>tasci_varto</td>\n",
       "      <td>east</td>\n",
       "    </tr>\n",
       "    <tr>\n",
       "      <th>1</th>\n",
       "      <td>19.08.1966</td>\n",
       "      <td>12:41:18 ÖÖ</td>\n",
       "      <td>turkey</td>\n",
       "      <td>Mus</td>\n",
       "      <td>yedikavak_varto</td>\n",
       "      <td>south_west</td>\n",
       "    </tr>\n",
       "    <tr>\n",
       "      <th>2</th>\n",
       "      <td>30.12.1966</td>\n",
       "      <td>12:57:09 ÖÖ</td>\n",
       "      <td>turkey</td>\n",
       "      <td>Sakarya</td>\n",
       "      <td>suleymaniye_hendek</td>\n",
       "      <td>south_west</td>\n",
       "    </tr>\n",
       "  </tbody>\n",
       "</table>\n",
       "</div>"
      ],
      "text/plain": [
       "         date         time country     city                area   direction\n",
       "0  19.08.1966  12:03:55 ÖÖ  turkey      Mus         tasci_varto        east\n",
       "1  19.08.1966  12:41:18 ÖÖ  turkey      Mus     yedikavak_varto  south_west\n",
       "2  30.12.1966  12:57:09 ÖÖ  turkey  Sakarya  suleymaniye_hendek  south_west"
      ]
     },
     "execution_count": 16,
     "metadata": {},
     "output_type": "execute_result"
    }
   ],
   "source": [
    "df_categorical = df.select_dtypes(include = \"object\")\n",
    "df_categorical.head(3)"
   ]
  },
  {
   "cell_type": "markdown",
   "id": "ed3fa984",
   "metadata": {
    "papermill": {
     "duration": 0.00832,
     "end_time": "2024-11-22T20:45:41.104988",
     "exception": false,
     "start_time": "2024-11-22T20:45:41.096668",
     "status": "completed"
    },
    "tags": []
   },
   "source": [
    "\n",
    "## 4. Sonuç Ve Öneriler\n",
    "<a id=\"sonuc_ve_öneriler\"></a>\n",
    "\n",
    "\n",
    "\n",
    "Bu projede yapılan analizler, veri setinin detaylı bir şekilde incelenmesini, görselleştirilmesini ve sonuçların anlamlandırılmasını içermektedir. Veri analizi sürecinde öncelikli olarak verinin temel yapısı ve değişkenler arası ilişkiler belirlendi. Korelasyon analizi sonuçları, değişkenlerin birbirleriyle olan ilişkilerinin gücünü ve yönünü anlamamızı sağlamıştır. Özellikle bazı değişkenler arasında güçlü korelasyonlar tespit edilmiş ve bu durum ileride yapılacak modelleme çalışmaları için rehber olabilecek niteliktedir.\n",
    "\n",
    "Veri temizleme ve ön işleme süreçlerinde eksik veriler tespit edilerek uygun yöntemlerle doldurulmuş, hatalı veya uyumsuz veri noktaları düzenlenmiştir. Bu süreç, analizin doğruluğunu artırmak ve daha sağlam bir veri seti oluşturmak için kritik bir adımdır. Ayrıca, özellik mühendisliği kapsamında, veriyi daha anlamlı hale getirecek yeni değişkenler oluşturulmuş ve analiz süreçlerinde kullanılmıştır.\n",
    "\n",
    "Proje çıktıları, özellikle iş dünyasında çeşitli alanlarda kullanılabilir. Örneğin, bir işletmenin karar alma süreçlerini optimize etmek, riskleri daha doğru bir şekilde değerlendirmek veya müşteri davranışlarını anlamak için bu analizlerden yararlanılabilir. Bunun yanı sıra, modelleme süreçlerinde belirlenen önemli değişkenler, gelecekteki tahmin modellerinin performansını artırmak için kullanılabilir.\n",
    "\n",
    "#### **Öneriler**\n",
    "- **Model Seçimi:** Verinin yapısına bağlı olarak regresyon veya sınıflandırma gibi makine öğrenimi algoritmaları kullanılabilir. Örneğin, Random Forest veya Gradient Boosting gibi algoritmalar veri setinin doğasına uygun çözümler sunabilir.\n",
    "- **Eksik Verilerle Baş Etme:** Eksik veri sorunlarının çözümünde medyan, mod veya regresyon tabanlı yöntemler kullanılabilir. Eksikliklerin doğru yönetimi, modelin doğruluğunu ve güvenilirliğini artıracaktır.\n",
    "- **Özellik Mühendisliği:** Veri setinin mevcut değişkenlerini analiz ederek yeni değişkenler oluşturmak, modelin performansını artırabilir. Örneğin, tarih verilerinden mevsim veya çeyrek bilgisi gibi yeni özellikler türetilebilir.\n",
    "- **Analitik Süreçlerin Şirket İçi Uygulaması:** Elde edilen bulgular, şirket içinde karar destek sistemlerine entegre edilebilir. Örneğin, risk analizi, müşteri segmentasyonu veya operasyonel verimliliği artırmaya yönelik çözümler bu analizlerden faydalanabilir.\n",
    "- **Performans Değerlendirme ve Optimizasyon:** Geliştirilen modellerin doğruluğunu artırmak için hyperparameter tuning ve cross-validation gibi teknikler kullanılabilir. Bu, sonuçların güvenilirliğini artıracak ve daha etkili karar alma süreçlerine katkı sağlayacaktır.\n",
    "\n",
    "Sonuç olarak, bu proje kapsamında yapılan analizler ve çıkarımlar, bir veri analistinin gerçek hayatta karşılaşacağı problemlere ışık tutacak nitelikte olduğuna inanıyorum. Bu tür projeler, analitik düşünme becerisini geliştirmek ve veriden anlamlı sonuçlar çıkarabilme yetkinliğini artırmak amacıyla büyük bir fırsat sunuyor. Bu proje, veri analitiği ve makine öğrenimi alanında gelecekteki çalışmalara sağlam bir temel oluşturabilir. \n",
    "\n"
   ]
  }
 ],
 "metadata": {
  "kaggle": {
   "accelerator": "none",
   "dataSources": [
    {
     "datasetId": 465130,
     "sourceId": 873769,
     "sourceType": "datasetVersion"
    }
   ],
   "dockerImageVersionId": 30786,
   "isGpuEnabled": false,
   "isInternetEnabled": false,
   "language": "python",
   "sourceType": "notebook"
  },
  "kernelspec": {
   "display_name": "Python 3",
   "language": "python",
   "name": "python3"
  },
  "language_info": {
   "codemirror_mode": {
    "name": "ipython",
    "version": 3
   },
   "file_extension": ".py",
   "mimetype": "text/x-python",
   "name": "python",
   "nbconvert_exporter": "python",
   "pygments_lexer": "ipython3",
   "version": "3.10.14"
  },
  "papermill": {
   "default_parameters": {},
   "duration": 11.126059,
   "end_time": "2024-11-22T20:45:42.139606",
   "environment_variables": {},
   "exception": null,
   "input_path": "__notebook__.ipynb",
   "output_path": "__notebook__.ipynb",
   "parameters": {},
   "start_time": "2024-11-22T20:45:31.013547",
   "version": "2.6.0"
  }
 },
 "nbformat": 4,
 "nbformat_minor": 5
}
